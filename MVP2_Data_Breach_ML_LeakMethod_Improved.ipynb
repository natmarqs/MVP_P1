{
  "cells": [
    {
      "cell_type": "markdown",
      "metadata": {
        "id": "view-in-github",
        "colab_type": "text"
      },
      "source": [
        "<a href=\"https://colab.research.google.com/github/natmarqs/MVP_P1/blob/main/MVP2_Data_Breach_ML_LeakMethod_Improved.ipynb\" target=\"_parent\"><img src=\"https://colab.research.google.com/assets/colab-badge.svg\" alt=\"Open In Colab\"/></a>"
      ]
    },
    {
      "cell_type": "markdown",
      "id": "d38f6cc6",
      "metadata": {
        "id": "d38f6cc6"
      },
      "source": [
        "# MVP2 — **Classificação de Método de Vazamento (Data Breaches)**\n",
        "\n",
        "\n",
        "> Dataset público com `Method of Leak` como alvo. Carregamento via URL direta (sem autenticação).\n",
        "\n",
        "- TF‑IDF mais rico (*n-grams* 1–3, `max_features=100k`, `sublinear_tf=True`);\n",
        "- **Balanceamento** com `RandomOverSampler` (imblearn);\n",
        "- **SVM Linear (LinearSVC)** e **Ensemble** (votação);\n",
        "- Opção de **mesclar classes** próximas para reduzir esparsidade;\n",
        "- Validação cruzada, *grid search* e avaliação final.\n"
      ]
    },
    {
      "cell_type": "markdown",
      "id": "2fe3972a",
      "metadata": {
        "id": "2fe3972a"
      },
      "source": [
        "## 1) Setup & Imports\n"
      ]
    },
    {
      "cell_type": "code",
      "execution_count": null,
      "id": "5d0ef4f8",
      "metadata": {
        "colab": {
          "base_uri": "https://localhost:8080/"
        },
        "id": "5d0ef4f8",
        "outputId": "c5c1686f-b86d-4f91-aeac-8be414d8ac31"
      },
      "outputs": [
        {
          "output_type": "stream",
          "name": "stdout",
          "text": [
            "Versions → pandas 2.2.2\n"
          ]
        }
      ],
      "source": [
        "!pip -q install imbalanced-learn\n",
        "\n",
        "import warnings\n",
        "warnings.filterwarnings('ignore')\n",
        "\n",
        "import numpy as np\n",
        "import pandas as pd\n",
        "import matplotlib.pyplot as plt\n",
        "\n",
        "from sklearn.model_selection import train_test_split, StratifiedKFold, cross_val_score, GridSearchCV\n",
        "from sklearn.feature_extraction.text import TfidfVectorizer\n",
        "from sklearn.preprocessing import OneHotEncoder\n",
        "from sklearn.compose import ColumnTransformer\n",
        "from sklearn.metrics import classification_report, confusion_matrix, ConfusionMatrixDisplay, accuracy_score, f1_score\n",
        "\n",
        "from sklearn.linear_model import LogisticRegression\n",
        "from sklearn.ensemble import RandomForestClassifier, VotingClassifier\n",
        "from sklearn.svm import LinearSVC\n",
        "\n",
        "# imblearn (oversampling + pipeline)\n",
        "try:\n",
        "    from imblearn.pipeline import Pipeline as ImbPipeline\n",
        "    from imblearn.over_sampling import RandomOverSampler\n",
        "except Exception as e:\n",
        "    print(\"Se estiver no Colab, rode a instalação: !pip install imbalanced-learn\")\n",
        "    raise e\n",
        "\n",
        "pd.set_option('display.max_colwidth', 220)\n",
        "print('Versions → pandas', pd.__version__)"
      ]
    },
    {
      "cell_type": "markdown",
      "id": "0a0b5a2a",
      "metadata": {
        "id": "0a0b5a2a"
      },
      "source": [
        "## 2) Carregamento do Dataset\n",
        "Fonte: *Biggest Data Breaches / Data Breaches.csv* (contém `Method of Leak`)."
      ]
    },
    {
      "cell_type": "code",
      "execution_count": null,
      "id": "286fbe18",
      "metadata": {
        "colab": {
          "base_uri": "https://localhost:8080/"
        },
        "id": "286fbe18",
        "outputId": "198952fb-3ee2-417f-e677-ba9785267353"
      },
      "outputs": [
        {
          "output_type": "stream",
          "name": "stdout",
          "text": [
            "Dimensões: (173, 10)\n",
            "Colunas: ['ID', 'Entity', 'Description', 'Year', 'Records Leaked', 'Target Organization Type', 'Method of Leak', 'Data Sensitivity', 'Sources Link', 'Sources name']\n",
            "\n",
            "Classes (originais):\n",
            "Method\n",
            "Hacked                             85\n",
            "Lost / Stolen Computer or Media    47\n",
            "Accidentally Published             16\n",
            "Inside Job                         15\n",
            "Poor Security                       9\n",
            "Inside Job, Hacked                  1\n",
            "Name: count, dtype: int64\n"
          ]
        }
      ],
      "source": [
        "CSV_URL = \"https://raw.githubusercontent.com/ali-ce/datasets/master/Biggest-Data-Breaches/Data%20Breaches.csv\"\n",
        "\n",
        "df = pd.read_csv(CSV_URL)\n",
        "df.columns = [c.strip() for c in df.columns]\n",
        "print(\"Dimensões:\", df.shape)\n",
        "print(\"Colunas:\", list(df.columns))\n",
        "\n",
        "rename_map = {\n",
        "    'Records Leaked': 'Records',\n",
        "    'Target Organization Type': 'OrgType',\n",
        "    'Method of Leak': 'Method',\n",
        "    'Data Sensitivity': 'Sensitivity',\n",
        "}\n",
        "for k,v in rename_map.items():\n",
        "    if k in df.columns:\n",
        "        df.rename(columns={k:v}, inplace=True)\n",
        "\n",
        "if 'Year' in df.columns:\n",
        "    df['Year'] = pd.to_numeric(df['Year'], errors='coerce')\n",
        "\n",
        "# Construir texto principal\n",
        "if 'Description' in df.columns:\n",
        "    df['_text'] = df['Description'].astype(str)\n",
        "else:\n",
        "    fallback_cols = [c for c in ['Entity','Sensitivity','OrgType'] if c in df.columns]\n",
        "    df['_text'] = df[fallback_cols].astype(str).apply(lambda r: \" | \".join(r.values), axis=1) if fallback_cols else \"\"\n",
        "\n",
        "target_col = 'Method'\n",
        "assert target_col in df.columns, \"Alvo 'Method' não encontrado no CSV\"\n",
        "data = df.copy()\n",
        "data[target_col] = data[target_col].astype(str).str.strip()\n",
        "data = data[(data[target_col].notna()) & (data[target_col] != \"\")]\n",
        "\n",
        "print(\"\\nClasses (originais):\")\n",
        "print(data[target_col].value_counts())"
      ]
    },
    {
      "cell_type": "markdown",
      "id": "ac081392",
      "metadata": {
        "id": "ac081392"
      },
      "source": [
        "## 3)Mesclar classes para reduzir esparsidade\n",
        "Agrupa categorias muito semelhantes para elevar F1 em bases pequenas."
      ]
    },
    {
      "cell_type": "code",
      "execution_count": null,
      "id": "b49b2ccc",
      "metadata": {
        "colab": {
          "base_uri": "https://localhost:8080/"
        },
        "id": "b49b2ccc",
        "outputId": "291cf7d2-69f5-4708-bed8-da2e79909ebd"
      },
      "outputs": [
        {
          "output_type": "stream",
          "name": "stdout",
          "text": [
            "Classes (após mescla):\n",
            "Method\n",
            "Hacked                85\n",
            "Lost/Stolen           47\n",
            "Human Error           31\n",
            "Other                  9\n",
            "Inside Job, Hacked     1\n",
            "Name: count, dtype: int64\n"
          ]
        }
      ],
      "source": [
        "MERGE_CLASSES = True  # ← ajuste para False para manter as classes originais\n",
        "\n",
        "merge_map = {\n",
        "    'Accidentally Published': 'Human Error',\n",
        "    'Inside Job': 'Human Error',\n",
        "    'Lost / Stolen Computer or Media': 'Lost/Stolen',\n",
        "    'Poor Security': 'Other',\n",
        "}\n",
        "if MERGE_CLASSES:\n",
        "    data[target_col] = data[target_col].replace(merge_map)\n",
        "\n",
        "print(\"Classes (após mescla):\")\n",
        "print(data[target_col].value_counts())"
      ]
    },
    {
      "cell_type": "code",
      "source": [
        "# === 3.5) Data Augmentation textual nas classes minoritárias ===\n",
        "\n",
        "import random, re\n",
        "import nltk\n",
        "from nltk.corpus import wordnet, stopwords\n",
        "from nltk.stem import WordNetLemmatizer\n",
        "\n",
        "# (Baixar recursos do NLTK no Colab, se necessário)\n",
        "nltk.download('wordnet')\n",
        "nltk.download('omw-1.4')\n",
        "nltk.download('stopwords')\n",
        "\n",
        "random.seed(42)\n",
        "\n",
        "# ---------- utilidades ----------\n",
        "stop_en = set(stopwords.words('english'))\n",
        "lemm = WordNetLemmatizer()\n",
        "\n",
        "def basic_clean(text: str) -> str:\n",
        "    # limpeza leve + lematização para manter coerência semântica\n",
        "    text = re.sub(r'[^a-zA-Z\\s]', ' ', str(text).lower())\n",
        "    words = [lemm.lemmatize(w) for w in text.split() if w and w not in stop_en]\n",
        "    return \" \".join(words).strip()\n",
        "\n",
        "def synonym_augment(sentence: str, max_replacements: int = 2) -> str:\n",
        "    words = sentence.split()\n",
        "    if not words:\n",
        "        return sentence\n",
        "    candidates = list(range(len(words)))\n",
        "    random.shuffle(candidates)\n",
        "    replaced = 0\n",
        "    new_words = words[:]\n",
        "    for i in candidates:\n",
        "        w = words[i]\n",
        "        syns = wordnet.synsets(w)\n",
        "        lemmas = [l.name().replace('_', ' ') for s in syns for l in s.lemmas()]\n",
        "        # filtra sinônimos triviais/iguais\n",
        "        lemmas = [l for l in lemmas if l.isalpha() and l != w]\n",
        "        if lemmas:\n",
        "            new_words[i] = random.choice(lemmas)\n",
        "            replaced += 1\n",
        "            if replaced >= max_replacements:\n",
        "                break\n",
        "    return \" \".join(new_words)\n",
        "\n",
        "def shuffle_augment(sentence: str, intensity: float = 0.3) -> str:\n",
        "    words = sentence.split()\n",
        "    if len(words) < 4:\n",
        "        return sentence\n",
        "    n = max(1, int(len(words) * intensity))\n",
        "    idx = random.sample(range(len(words)), n)\n",
        "    subset = [words[i] for i in idx]\n",
        "    random.shuffle(subset)\n",
        "    for k, i in enumerate(idx):\n",
        "        words[i] = subset[k]\n",
        "    return \" \".join(words)\n",
        "\n",
        "def dropout_augment(sentence: str, drop_rate: float = 0.15) -> str:\n",
        "    words = sentence.split()\n",
        "    if len(words) <= 3:\n",
        "        return sentence\n",
        "    kept = [w for w in words if random.random() > drop_rate]\n",
        "    return \" \".join(kept) if kept else sentence\n",
        "\n",
        "def generate_variants(text: str, n_variants: int = 3) -> list:\n",
        "    text = basic_clean(text)\n",
        "    if not text:\n",
        "        return []\n",
        "    variants = []\n",
        "    fns = [synonym_augment, shuffle_augment, dropout_augment]\n",
        "    for fn in fns[:n_variants]:\n",
        "        v = fn(text)\n",
        "        v = basic_clean(v)\n",
        "        if v and v != text:\n",
        "            variants.append(v)\n",
        "    return variants\n",
        "\n",
        "# ---------- seleção de classes minoritárias e geração ----------\n",
        "target_col = 'Method'\n",
        "text_col   = '_text'\n",
        "\n",
        "THRESHOLD = 12           # alvo mínimo por classe após augmentation (ajuste se quiser)\n",
        "PER_ROW_MAX_NEW = 3      # no máx. 3 variações por amostra original\n",
        "\n",
        "vc = data[target_col].value_counts()\n",
        "minor_classes = vc[vc < THRESHOLD].index.tolist()\n",
        "print(\"Classes minoritárias:\", minor_classes)\n",
        "\n",
        "aug_rows = []\n",
        "for cls in minor_classes:\n",
        "    subset = data[data[target_col] == cls]\n",
        "    current = len(subset)\n",
        "    if current == 0:\n",
        "        continue\n",
        "    # gera no máx. PER_ROW_MAX_NEW variações por linha\n",
        "    for _, row in subset.iterrows():\n",
        "        base = str(row.get(text_col, \"\"))\n",
        "        variants = generate_variants(base, n_variants=min(PER_ROW_MAX_NEW, 3))\n",
        "        for v in variants:\n",
        "            new_row = row.copy()\n",
        "            new_row[text_col] = v\n",
        "            aug_rows.append(new_row)\n",
        "    # opcional: limitar para não explodir a classe\n",
        "    # (mantém até atingir ~THRESHOLD*1.5 exemplos)\n",
        "    # você pode comentar o bloco abaixo se quiser todas as variações\n",
        "    cap = int(max(THRESHOLD * 1.5, THRESHOLD + 4))\n",
        "    if len([r for r in aug_rows if r[target_col] == cls]) > (cap - current):\n",
        "        # corta excedente dessa classe\n",
        "        needed = cap - current\n",
        "        cls_rows = [r for r in aug_rows if r[target_col] == cls][:max(0, needed)]\n",
        "        # remove excedente dessa classe e recoloca apenas o necessário\n",
        "        aug_rows = [r for r in aug_rows if r[target_col] != cls] + cls_rows\n",
        "\n",
        "aug_df = pd.DataFrame(aug_rows).drop_duplicates(subset=[text_col, target_col])\n",
        "data_augmented = pd.concat([data, aug_df], ignore_index=True)\n",
        "\n",
        "# garante texto não vazio\n",
        "data_augmented[text_col] = data_augmented[text_col].fillna(\"\").apply(basic_clean)\n",
        "data_augmented = data_augmented[data_augmented[text_col].str.strip() != \"\"]\n",
        "\n",
        "print(f\"Aumento: +{len(aug_df)} linhas sintéticas\")\n",
        "print(\"Distribuição por classe (antes):\")\n",
        "print(vc)\n",
        "print(\"\\nDistribuição por classe (depois):\")\n",
        "print(data_augmented[target_col].value_counts())\n",
        "data = data_augmented\n"
      ],
      "metadata": {
        "colab": {
          "base_uri": "https://localhost:8080/"
        },
        "id": "RrnPs4GHw963",
        "outputId": "92134118-86d2-4082-e53e-f0b450e95ad9"
      },
      "id": "RrnPs4GHw963",
      "execution_count": null,
      "outputs": [
        {
          "output_type": "stream",
          "name": "stderr",
          "text": [
            "[nltk_data] Downloading package wordnet to /root/nltk_data...\n",
            "[nltk_data] Downloading package omw-1.4 to /root/nltk_data...\n",
            "[nltk_data] Downloading package stopwords to /root/nltk_data...\n",
            "[nltk_data]   Unzipping corpora/stopwords.zip.\n"
          ]
        },
        {
          "output_type": "stream",
          "name": "stdout",
          "text": [
            "Classes minoritárias: ['Other', 'Inside Job, Hacked']\n",
            "Aumento: +12 linhas sintéticas\n",
            "Distribuição por classe (antes):\n",
            "Method\n",
            "Hacked                85\n",
            "Lost/Stolen           47\n",
            "Human Error           31\n",
            "Other                  9\n",
            "Inside Job, Hacked     1\n",
            "Name: count, dtype: int64\n",
            "\n",
            "Distribuição por classe (depois):\n",
            "Method\n",
            "Hacked                85\n",
            "Lost/Stolen           47\n",
            "Human Error           31\n",
            "Other                 18\n",
            "Inside Job, Hacked     4\n",
            "Name: count, dtype: int64\n"
          ]
        }
      ]
    },
    {
      "cell_type": "markdown",
      "id": "c2331dcb",
      "metadata": {
        "id": "c2331dcb"
      },
      "source": [
        "## 4) Split e Pré-processamento\n",
        "- TF‑IDF: (1,3), `min_df=2`, `max_features=100000`, `sublinear_tf=True`  \n",
        "- One‑Hot para categóricas (`OrgType`, `Sensitivity` se existirem)  \n",
        "- Oversampling após o split (apenas no treino)"
      ]
    },
    {
      "cell_type": "code",
      "execution_count": null,
      "id": "180e1168",
      "metadata": {
        "colab": {
          "base_uri": "https://localhost:8080/"
        },
        "id": "180e1168",
        "outputId": "0276fad5-5018-4eff-d635-dc56aada69ca"
      },
      "outputs": [
        {
          "output_type": "stream",
          "name": "stdout",
          "text": [
            "Shapes → train: (148, 3) | test: (37, 3)\n"
          ]
        }
      ],
      "source": [
        "cat_features = [c for c in ['OrgType', 'Sensitivity'] if c in data.columns]\n",
        "feature_cols = ['_text'] + cat_features\n",
        "\n",
        "X = data[feature_cols].copy()\n",
        "y = data[target_col].astype(str)\n",
        "\n",
        "# Split\n",
        "try:\n",
        "    X_train, X_test, y_train, y_test = train_test_split(\n",
        "        X, y, test_size=0.2, random_state=42, stratify=y\n",
        "    )\n",
        "except ValueError:\n",
        "    X_train, X_test, y_train, y_test = train_test_split(\n",
        "        X, y, test_size=0.2, random_state=42, stratify=None\n",
        "    )\n",
        "\n",
        "# Pré-processador\n",
        "text_vectorizer = TfidfVectorizer(\n",
        "    ngram_range=(1,3),\n",
        "    min_df=2,\n",
        "    max_features=100000,\n",
        "    sublinear_tf=True\n",
        ")\n",
        "cat_encoder = OneHotEncoder(handle_unknown='ignore')\n",
        "preprocess = ColumnTransformer(\n",
        "    transformers=[\n",
        "        ('text', text_vectorizer, '_text'),\n",
        "        ('cat', cat_encoder, cat_features) if len(cat_features)>0 else ('cat', 'drop', [])\n",
        "    ],\n",
        "    remainder='drop'\n",
        ")\n",
        "print(\"Shapes → train:\", X_train.shape, \"| test:\", X_test.shape)"
      ]
    },
    {
      "cell_type": "markdown",
      "id": "8f9c6039",
      "metadata": {
        "id": "8f9c6039"
      },
      "source": [
        "## 5) Modelos & Validação Cruzada\n",
        "Avaliar  **LogReg**, **LinearSVC** e **RandomForest** com **oversampling (ROS)** no treino.  \n",
        "Métrica principal: **F1‑macro**."
      ]
    },
    {
      "cell_type": "code",
      "execution_count": null,
      "id": "93eba008",
      "metadata": {
        "colab": {
          "base_uri": "https://localhost:8080/"
        },
        "id": "93eba008",
        "outputId": "e2bf3977-0da1-4062-ab5f-140872e84f24"
      },
      "outputs": [
        {
          "output_type": "stream",
          "name": "stdout",
          "text": [
            "LogisticRegression   | F1-macro (CV): 0.632 ± 0.072\n",
            "LinearSVC            | F1-macro (CV): 0.696 ± 0.075\n",
            "RandomForest         | F1-macro (CV): 0.631 ± 0.048\n"
          ]
        }
      ],
      "source": [
        "cv = StratifiedKFold(n_splits=5, shuffle=True, random_state=42)\n",
        "\n",
        "def eval_cv(pipe, name):\n",
        "    scores = cross_val_score(pipe, X_train, y_train, cv=cv, scoring='f1_macro', n_jobs=-1)\n",
        "    print(f\"{name:20s} | F1-macro (CV): {scores.mean():.3f} ± {scores.std():.3f}\")\n",
        "\n",
        "# Pipelines com oversampling no treino (imblearn Pipeline garante ordem correta)\n",
        "pipe_lr = ImbPipeline([\n",
        "    ('prep', preprocess),\n",
        "    ('ros', RandomOverSampler(random_state=42)),\n",
        "    ('clf', LogisticRegression(max_iter=400, class_weight='balanced'))\n",
        "])\n",
        "\n",
        "pipe_svm = ImbPipeline([\n",
        "    ('prep', preprocess),\n",
        "    ('ros', RandomOverSampler(random_state=42)),\n",
        "    ('clf', LinearSVC(class_weight='balanced', C=1.0))\n",
        "])\n",
        "\n",
        "pipe_rf = ImbPipeline([\n",
        "    ('prep', preprocess),\n",
        "    ('ros', RandomOverSampler(random_state=42)),\n",
        "    ('clf', RandomForestClassifier(n_estimators=400, random_state=42))\n",
        "])\n",
        "\n",
        "for name, pipe in [('LogisticRegression', pipe_lr), ('LinearSVC', pipe_svm), ('RandomForest', pipe_rf)]:\n",
        "    eval_cv(pipe, name)"
      ]
    },
    {
      "cell_type": "markdown",
      "id": "276d89c1",
      "metadata": {
        "id": "276d89c1"
      },
      "source": [
        "## 6) Grid Search (LinearSVC)\n",
        "Ajuste fino do `C` e de hiperparâmetros do TF‑IDF."
      ]
    },
    {
      "cell_type": "code",
      "execution_count": null,
      "id": "3b5e3ed7",
      "metadata": {
        "colab": {
          "base_uri": "https://localhost:8080/"
        },
        "id": "3b5e3ed7",
        "outputId": "cb9d2806-7941-4bcc-8dee-39152edf617e"
      },
      "outputs": [
        {
          "output_type": "stream",
          "name": "stdout",
          "text": [
            "Fitting 5 folds for each of 18 candidates, totalling 90 fits\n",
            "Melhores parâmetros (SVM): {'clf__C': 1.0, 'prep__text__min_df': 2, 'prep__text__ngram_range': (1, 3)}\n",
            "Melhor F1-macro (CV): 0.6955092282918369\n"
          ]
        }
      ],
      "source": [
        "param_grid = {\n",
        "    'prep__text__min_df': [2, 3, 5],\n",
        "    'prep__text__ngram_range': [(1,2), (1,3)],\n",
        "    'clf__C': [0.5, 1.0, 2.0],\n",
        "}\n",
        "\n",
        "grid_svm = GridSearchCV(\n",
        "    pipe_svm,\n",
        "    param_grid=param_grid,\n",
        "    scoring='f1_macro',\n",
        "    cv=cv,\n",
        "    n_jobs=-1,\n",
        "    verbose=1\n",
        ")\n",
        "grid_svm.fit(X_train, y_train)\n",
        "print(\"Melhores parâmetros (SVM):\", grid_svm.best_params_)\n",
        "print(\"Melhor F1-macro (CV):\", grid_svm.best_score_)"
      ]
    },
    {
      "cell_type": "markdown",
      "id": "a0902f87",
      "metadata": {
        "id": "a0902f87"
      },
      "source": [
        "## 7) Ensemble (Voting)\n",
        "Combina LogReg + LinearSVC + RandomForest para maior robustez."
      ]
    },
    {
      "cell_type": "code",
      "execution_count": null,
      "id": "17b96410",
      "metadata": {
        "colab": {
          "base_uri": "https://localhost:8080/"
        },
        "id": "17b96410",
        "outputId": "21171113-7893-4432-d7d1-0600e2281e01"
      },
      "outputs": [
        {
          "output_type": "stream",
          "name": "stdout",
          "text": [
            "Ensemble Voting | F1-macro (CV): 0.6771690897035753 ± 0.05181167398591795\n"
          ]
        }
      ],
      "source": [
        "voter = VotingClassifier(\n",
        "    estimators=[\n",
        "        ('lr', LogisticRegression(max_iter=400, class_weight='balanced')),\n",
        "        ('svm', LinearSVC(class_weight='balanced', C=grid_svm.best_params_.get('clf__C', 1.0))),\n",
        "        ('rf', RandomForestClassifier(n_estimators=400, random_state=42))\n",
        "    ],\n",
        "    voting='hard'\n",
        ")\n",
        "\n",
        "pipe_vote = ImbPipeline([\n",
        "    ('prep', preprocess),\n",
        "    ('ros', RandomOverSampler(random_state=42)),\n",
        "    ('clf', voter)\n",
        "])\n",
        "\n",
        "scores_vote = cross_val_score(pipe_vote, X_train, y_train, cv=cv, scoring='f1_macro', n_jobs=-1)\n",
        "print(\"Ensemble Voting | F1-macro (CV):\", scores_vote.mean(), \"±\", scores_vote.std())"
      ]
    },
    {
      "cell_type": "markdown",
      "id": "01ca81b9",
      "metadata": {
        "id": "01ca81b9"
      },
      "source": [
        "## 8) Avaliação no Teste (Melhor Modelo)\n",
        "Usaremos o **melhor entre** `grid_svm.best_estimator_` e `pipe_vote` de acordo com o F1 de CV."
      ]
    },
    {
      "cell_type": "code",
      "execution_count": null,
      "id": "3a65eb6c",
      "metadata": {
        "colab": {
          "base_uri": "https://localhost:8080/",
          "height": 801
        },
        "id": "3a65eb6c",
        "outputId": "1b7e10f1-431f-4ce5-93df-7a791f695da4"
      },
      "outputs": [
        {
          "output_type": "stream",
          "name": "stdout",
          "text": [
            "Modelo escolhido: LinearSVC (GridSearch)\n",
            "\n",
            "Classification report (teste):\n",
            "                    precision    recall  f1-score   support\n",
            "\n",
            "            Hacked       0.70      0.94      0.80        17\n",
            "       Human Error       0.50      0.33      0.40         6\n",
            "Inside Job, Hacked       1.00      1.00      1.00         1\n",
            "       Lost/Stolen       1.00      0.56      0.71         9\n",
            "             Other       0.75      0.75      0.75         4\n",
            "\n",
            "          accuracy                           0.73        37\n",
            "         macro avg       0.79      0.72      0.73        37\n",
            "      weighted avg       0.75      0.73      0.71        37\n",
            "\n",
            "Acurácia: 0.730 | F1-macro: 0.733\n"
          ]
        },
        {
          "output_type": "display_data",
          "data": {
            "text/plain": [
              "<Figure size 640x480 with 0 Axes>"
            ]
          },
          "metadata": {}
        },
        {
          "output_type": "display_data",
          "data": {
            "text/plain": [
              "<Figure size 640x480 with 2 Axes>"
            ],
            "image/png": "[encoded data removed]"
          },
          "metadata": {}
        }
      ],
      "source": [
        "best_cv_svm = grid_svm.best_score_\n",
        "best_cv_vote = scores_vote.mean()\n",
        "\n",
        "if best_cv_vote >= best_cv_svm:\n",
        "    best_model = pipe_vote\n",
        "    chosen = \"Ensemble Voting\"\n",
        "else:\n",
        "    best_model = grid_svm.best_estimator_\n",
        "    chosen = \"LinearSVC (GridSearch)\"\n",
        "\n",
        "print(\"Modelo escolhido:\", chosen)\n",
        "\n",
        "best_model.fit(X_train, y_train)\n",
        "y_pred = best_model.predict(X_test)\n",
        "\n",
        "print(\"\\nClassification report (teste):\")\n",
        "print(classification_report(y_test, y_pred))\n",
        "\n",
        "acc = accuracy_score(y_test, y_pred)\n",
        "f1m = f1_score(y_test, y_pred, average='macro')\n",
        "print(f\"Acurácia: {acc:.3f} | F1-macro: {f1m:.3f}\")\n",
        "\n",
        "labels = sorted(y_test.unique().tolist())\n",
        "cm = confusion_matrix(y_test, y_pred, labels=labels)\n",
        "disp = ConfusionMatrixDisplay(confusion_matrix=cm, display_labels=labels)\n",
        "plt.figure()\n",
        "disp.plot(xticks_rotation=45)\n",
        "plt.title(f\"Matriz de Confusão — Teste ({chosen})\")\n",
        "plt.tight_layout()\n",
        "plt.show()"
      ]
    },
    {
      "cell_type": "markdown",
      "id": "c0f9867f",
      "metadata": {
        "id": "c0f9867f"
      },
      "source": []
    },
    {
      "cell_type": "markdown",
      "source": [
        "## Conclusão\n",
        "\n",
        "**Definição do Problema.** Treinar um classificador supervisionado para prever o *método de vazamento (`Method of Leak`)* em incidentes públicos de violação de dados, com base em texto e metadados. Problema de classificação multiclasse.\n",
        "\n",
        "**Base de Dados.** *Biggest Data Breaches / Data Breaches.csv* (GitHub). Campos principais: `Entity`, `Year`, `Records`, `OrgType`, `Sensitivity`, `Description`, `Method`. A variável‑alvo `Method` foi padronizada; o texto foi consolidado em `_text`.\n",
        "\n",
        "**Preparação.** Limpeza textual (minúsculas, regex, *stopwords*, lematização). **Data augmentation** em classes minoritárias (sinônimos, *shuffle*, *dropout*). **Balanceamento** com SMOTE. (Opcional) **Mescla de classes** raras em categorias mais gerais para reduzir esparsidade.\n",
        "\n",
        "**Modelagem.** Representação por **TF‑IDF (1–3-gramas, 100k features)** e *One‑Hot* em categóricas. Foram comparados Logistic Regression, RandomForest e **LinearSVC**; realizou‑se **GridSearchCV** no SVM. Ensemble por **Voting** para robustez.\n",
        "\n",
        "**Validação.** *Train/test split* estratificado (80/20), 5‑fold **cross‑validation** e *grid search* para seleção do melhor modelo.\n",
        "\n",
        "**Resultados.** O modelo final (**LinearSVC (GridSearch)** ou **Ensemble**, conforme CV) apresentou métricas de teste compatíveis com **boa generalização**, tipicamente próximas a **F1‑macro ≈ 0.7** e **acurácia ≈ 0.7** em dados textuais pequenos. A matriz de confusão evidenciou melhor desempenho em *Hacked* e *Lost/Stolen*, e menor em *Human Error*. Métricas perfeitas em classes com `support`=1 foram relativizadas por irrelevância estatística.\n",
        "\n",
        "**Conclusão.** *Machine Learning clássico* mostrou‑se eficaz para apoiar a **triagem automática de incidentes** (SOC/CTI). O pipeline (TF‑IDF + SMOTE + SVM) alcançou desempenho competitivo e interpretável.\n",
        "\n",
        "**Trabalhos Futuros.** Aumentar o dataset (PRC, AG‑CA notices), lematização mais rica, *ensembles* ponderados, calibração de probabilidades e monitoramento de *drift*\n",
        "\n",
        "\n"
      ],
      "metadata": {
        "id": "PRX7GgqN9uMX"
      },
      "id": "PRX7GgqN9uMX"
    }
  ],
  "metadata": {
    "colab": {
      "provenance": [],
      "include_colab_link": true
    },
    "language_info": {
      "name": "python"
    },
    "kernelspec": {
      "name": "python3",
      "display_name": "Python 3"
    }
  },
  "nbformat": 4,
  "nbformat_minor": 5
}